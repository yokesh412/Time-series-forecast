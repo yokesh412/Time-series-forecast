{
  "nbformat": 4,
  "nbformat_minor": 0,
  "metadata": {
    "colab": {
      "provenance": [],
      "collapsed_sections": [],
      "authorship_tag": "ABX9TyP/Fi9ctiKll0wtgX/nsKGX",
      "include_colab_link": true
    },
    "kernelspec": {
      "name": "python3",
      "display_name": "Python 3"
    },
    "language_info": {
      "name": "python"
    }
  },
  "cells": [
    {
      "cell_type": "markdown",
      "metadata": {
        "id": "view-in-github",
        "colab_type": "text"
      },
      "source": [
        "<a href=\"https://colab.research.google.com/github/yokesh412/Time-series-forecast/blob/main/Store_Sales_time_series_forecast.ipynb\" target=\"_parent\"><img src=\"https://colab.research.google.com/assets/colab-badge.svg\" alt=\"Open In Colab\"/></a>"
      ]
    },
    {
      "cell_type": "code",
      "execution_count": null,
      "metadata": {
        "id": "CSXHkXfBbkfY"
      },
      "outputs": [],
      "source": []
    },
    {
      "cell_type": "code",
      "source": [
        "from google.colab import drive\n",
        "drive.mount('/content/drive')"
      ],
      "metadata": {
        "colab": {
          "base_uri": "https://localhost:8080/"
        },
        "id": "b2kU-p4wdeYX",
        "outputId": "3a99c941-45dc-4ff1-9b1d-9c7537626b40"
      },
      "execution_count": null,
      "outputs": [
        {
          "output_type": "stream",
          "name": "stdout",
          "text": [
            "Mounted at /content/drive\n"
          ]
        }
      ]
    },
    {
      "cell_type": "code",
      "source": [
        "import pandas as pd\n",
        "import numpy as np\n",
        "\n",
        "\n",
        "from sklearn.preprocessing import LabelEncoder\n",
        "from datetime import datetime, timedelta\n",
        "from statsmodels.tsa.stattools import adfuller\n",
        "from statsmodels.graphics.tsaplots import plot_acf, plot_pacf\n",
        "from statsmodels.tsa.arima.model import ARIMA\n",
        "from statsmodels.tsa.statespace.sarimax import SARIMAX\n",
        "\n",
        "import matplotlib.pyplot as plt"
      ],
      "metadata": {
        "id": "tMjvu6WVA4As"
      },
      "execution_count": null,
      "outputs": []
    },
    {
      "cell_type": "markdown",
      "source": [
        "**Importing the datasets and perform EDA**"
      ],
      "metadata": {
        "id": "nQ9lnP26BhuV"
      }
    },
    {
      "cell_type": "markdown",
      "source": [
        "Transaction\n",
        "\n",
        "1.From this data set we will get three major details.\n",
        "\n",
        "2.transaction gives the total transactions for a product family at a particular store at a given date. Fractional values are possible since products can be sold in fractional units (1.5 kg of cheese, for instance, as opposed to 1 bag of chips).\n",
        "\n",
        "3.store_nbr identifies the store at which the products are sold."
      ],
      "metadata": {
        "id": "xWYeqdP8BpWs"
      }
    },
    {
      "cell_type": "code",
      "source": [
        "transac = pd.read_csv('/content/drive/MyDrive/time series forecat project/transactions.csv')\n",
        "print(transac.head(10))\n",
        "transac.info()"
      ],
      "metadata": {
        "colab": {
          "base_uri": "https://localhost:8080/"
        },
        "id": "9KUb5f3qBYnE",
        "outputId": "e3c23342-1beb-4e2e-da0d-432794f337ec"
      },
      "execution_count": null,
      "outputs": [
        {
          "output_type": "stream",
          "name": "stdout",
          "text": [
            "         date  store_nbr  transactions\n",
            "0  2013-01-01         25           770\n",
            "1  2013-01-02          1          2111\n",
            "2  2013-01-02          2          2358\n",
            "3  2013-01-02          3          3487\n",
            "4  2013-01-02          4          1922\n",
            "5  2013-01-02          5          1903\n",
            "6  2013-01-02          6          2143\n",
            "7  2013-01-02          7          1874\n",
            "8  2013-01-02          8          3250\n",
            "9  2013-01-02          9          2940\n",
            "<class 'pandas.core.frame.DataFrame'>\n",
            "RangeIndex: 83488 entries, 0 to 83487\n",
            "Data columns (total 3 columns):\n",
            " #   Column        Non-Null Count  Dtype \n",
            "---  ------        --------------  ----- \n",
            " 0   date          83488 non-null  object\n",
            " 1   store_nbr     83488 non-null  int64 \n",
            " 2   transactions  83488 non-null  int64 \n",
            "dtypes: int64(2), object(1)\n",
            "memory usage: 1.9+ MB\n"
          ]
        }
      ]
    },
    {
      "cell_type": "markdown",
      "source": [
        "From above we can see that date column data type is object. Lets make it to datetime format for further analysis."
      ],
      "metadata": {
        "id": "ygeB65HeCKk1"
      }
    },
    {
      "cell_type": "code",
      "source": [
        "transac['date'] = pd.to_datetime(transac['date'])"
      ],
      "metadata": {
        "id": "xJJEZ9kDCMET"
      },
      "execution_count": null,
      "outputs": []
    },
    {
      "cell_type": "code",
      "source": [
        "#Lets analyse the transaction made each day. We can get a clear idea from a graphical view.\n",
        "fig=plt.figure(figsize=(20,7))\n",
        "plt.bar(transac['date'],transac['transactions'])\n",
        "plt.xlabel('Date')\n",
        "plt.ylabel('Total Transactions')\n",
        "plt.show()\n"
      ],
      "metadata": {
        "colab": {
          "base_uri": "https://localhost:8080/",
          "height": 442
        },
        "id": "hb9yPUK4CTNz",
        "outputId": "f9682dff-a622-4907-e785-7d4ffb2e7647"
      },
      "execution_count": null,
      "outputs": [
        {
          "output_type": "display_data",
          "data": {
            "text/plain": [
              "<Figure size 1440x504 with 1 Axes>"
            ],
            "image/png": "[encoded data removed]"
          },
          "metadata": {
            "needs_background": "light"
          }
        }
      ]
    },
    {
      "cell_type": "markdown",
      "source": [
        "From above we can clearly see that the transaction on decmber month of each year is too high. Specially from december 12th. That may be because of holidays and vacation season.\n",
        "Lets analyse the transaction made on each store. We can get a clear idea from a graphical view.¶"
      ],
      "metadata": {
        "id": "KcbTI2J2CbGb"
      }
    },
    {
      "cell_type": "code",
      "source": [
        "transac_store = transac[['store_nbr','transactions']].groupby('store_nbr').sum()\n",
        "transac_store = transac_store.reset_index()\n",
        "fig = plt.figure(figsize = (14, 5)) \n",
        "plt.bar(transac_store['store_nbr'], transac_store['transactions'],width=0.5)\n",
        "plt.xlabel('Store Number')\n",
        "plt.ylabel('Total Transactions')\n",
        "plt.show()"
      ],
      "metadata": {
        "colab": {
          "base_uri": "https://localhost:8080/",
          "height": 345
        },
        "id": "zuW0PP7ICXgN",
        "outputId": "3280cff1-4387-4bf4-f218-34299adc1383"
      },
      "execution_count": null,
      "outputs": [
        {
          "output_type": "display_data",
          "data": {
            "text/plain": [
              "<Figure size 1008x360 with 1 Axes>"
            ],
            "image/png": "[encoded data removed]"
          },
          "metadata": {
            "needs_background": "light"
          }
        }
      ]
    },
    {
      "cell_type": "markdown",
      "source": [
        "From above we can clearly see that store number 3, 8, 11, 44, 45, 46, 47, 48, 49 and 50 have lot of transactions i.e. sales is very good in these regions and we can focus on these.¶"
      ],
      "metadata": {
        "id": "YzEdh-LiC4GE"
      }
    },
    {
      "cell_type": "markdown",
      "source": [
        "**Stores:-**\n",
        "\n",
        "Store metadata, including city, state, type, and cluster.\n",
        "cluster is a grouping of similar stores."
      ],
      "metadata": {
        "id": "nf7D24AXC-eG"
      }
    },
    {
      "cell_type": "markdown",
      "source": [
        "Import the data set and see a overall details"
      ],
      "metadata": {
        "id": "RjfSifgbDIDj"
      }
    },
    {
      "cell_type": "code",
      "source": [
        "stores = pd.read_csv('/content/drive/MyDrive/time series forecat project/stores.csv')\n",
        "stores.head()"
      ],
      "metadata": {
        "colab": {
          "base_uri": "https://localhost:8080/",
          "height": 206
        },
        "id": "gKsGBpPGDE5e",
        "outputId": "55f59bd2-fbfd-4152-8425-f98a66a40e4c"
      },
      "execution_count": null,
      "outputs": [
        {
          "output_type": "execute_result",
          "data": {
            "text/plain": [
              "   store_nbr           city                           state type  cluster\n",
              "0          1          Quito                       Pichincha    D       13\n",
              "1          2          Quito                       Pichincha    D       13\n",
              "2          3          Quito                       Pichincha    D        8\n",
              "3          4          Quito                       Pichincha    D        9\n",
              "4          5  Santo Domingo  Santo Domingo de los Tsachilas    D        4"
            ],
            "text/html": [
              "\n",
              "  <div id=\"df-1112c4b4-9e2b-448b-b543-5efd08d5e7dd\">\n",
              "    <div class=\"colab-df-container\">\n",
              "      <div>\n",
              "<style scoped>\n",
              "    .dataframe tbody tr th:only-of-type {\n",
              "        vertical-align: middle;\n",
              "    }\n",
              "\n",
              "    .dataframe tbody tr th {\n",
              "        vertical-align: top;\n",
              "    }\n",
              "\n",
              "    .dataframe thead th {\n",
              "        text-align: right;\n",
              "    }\n",
              "</style>\n",
              "<table border=\"1\" class=\"dataframe\">\n",
              "  <thead>\n",
              "    <tr style=\"text-align: right;\">\n",
              "      <th></th>\n",
              "      <th>store_nbr</th>\n",
              "      <th>city</th>\n",
              "      <th>state</th>\n",
              "      <th>type</th>\n",
              "      <th>cluster</th>\n",
              "    </tr>\n",
              "  </thead>\n",
              "  <tbody>\n",
              "    <tr>\n",
              "      <th>0</th>\n",
              "      <td>1</td>\n",
              "      <td>Quito</td>\n",
              "      <td>Pichincha</td>\n",
              "      <td>D</td>\n",
              "      <td>13</td>\n",
              "    </tr>\n",
              "    <tr>\n",
              "      <th>1</th>\n",
              "      <td>2</td>\n",
              "      <td>Quito</td>\n",
              "      <td>Pichincha</td>\n",
              "      <td>D</td>\n",
              "      <td>13</td>\n",
              "    </tr>\n",
              "    <tr>\n",
              "      <th>2</th>\n",
              "      <td>3</td>\n",
              "      <td>Quito</td>\n",
              "      <td>Pichincha</td>\n",
              "      <td>D</td>\n",
              "      <td>8</td>\n",
              "    </tr>\n",
              "    <tr>\n",
              "      <th>3</th>\n",
              "      <td>4</td>\n",
              "      <td>Quito</td>\n",
              "      <td>Pichincha</td>\n",
              "      <td>D</td>\n",
              "      <td>9</td>\n",
              "    </tr>\n",
              "    <tr>\n",
              "      <th>4</th>\n",
              "      <td>5</td>\n",
              "      <td>Santo Domingo</td>\n",
              "      <td>Santo Domingo de los Tsachilas</td>\n",
              "      <td>D</td>\n",
              "      <td>4</td>\n",
              "    </tr>\n",
              "  </tbody>\n",
              "</table>\n",
              "</div>\n",
              "      <button class=\"colab-df-convert\" onclick=\"convertToInteractive('df-1112c4b4-9e2b-448b-b543-5efd08d5e7dd')\"\n",
              "              title=\"Convert this dataframe to an interactive table.\"\n",
              "              style=\"display:none;\">\n",
              "        \n",
              "  <svg xmlns=\"http://www.w3.org/2000/svg\" height=\"24px\"viewBox=\"0 0 24 24\"\n",
              "       width=\"24px\">\n",
              "    <path d=\"M0 0h24v24H0V0z\" fill=\"none\"/>\n",
              "    <path d=\"M18.56 5.44l.94 2.06.94-2.06 2.06-.94-2.06-.94-.94-2.06-.94 2.06-2.06.94zm-11 1L8.5 8.5l.94-2.06 2.06-.94-2.06-.94L8.5 2.5l-.94 2.06-2.06.94zm10 10l.94 2.06.94-2.06 2.06-.94-2.06-.94-.94-2.06-.94 2.06-2.06.94z\"/><path d=\"M17.41 7.96l-1.37-1.37c-.4-.4-.92-.59-1.43-.59-.52 0-1.04.2-1.43.59L10.3 9.45l-7.72 7.72c-.78.78-.78 2.05 0 2.83L4 21.41c.39.39.9.59 1.41.59.51 0 1.02-.2 1.41-.59l7.78-7.78 2.81-2.81c.8-.78.8-2.07 0-2.86zM5.41 20L4 18.59l7.72-7.72 1.47 1.35L5.41 20z\"/>\n",
              "  </svg>\n",
              "      </button>\n",
              "      \n",
              "  <style>\n",
              "    .colab-df-container {\n",
              "      display:flex;\n",
              "      flex-wrap:wrap;\n",
              "      gap: 12px;\n",
              "    }\n",
              "\n",
              "    .colab-df-convert {\n",
              "      background-color: #E8F0FE;\n",
              "      border: none;\n",
              "      border-radius: 50%;\n",
              "      cursor: pointer;\n",
              "      display: none;\n",
              "      fill: #1967D2;\n",
              "      height: 32px;\n",
              "      padding: 0 0 0 0;\n",
              "      width: 32px;\n",
              "    }\n",
              "\n",
              "    .colab-df-convert:hover {\n",
              "      background-color: #E2EBFA;\n",
              "      box-shadow: 0px 1px 2px rgba(60, 64, 67, 0.3), 0px 1px 3px 1px rgba(60, 64, 67, 0.15);\n",
              "      fill: #174EA6;\n",
              "    }\n",
              "\n",
              "    [theme=dark] .colab-df-convert {\n",
              "      background-color: #3B4455;\n",
              "      fill: #D2E3FC;\n",
              "    }\n",
              "\n",
              "    [theme=dark] .colab-df-convert:hover {\n",
              "      background-color: #434B5C;\n",
              "      box-shadow: 0px 1px 3px 1px rgba(0, 0, 0, 0.15);\n",
              "      filter: drop-shadow(0px 1px 2px rgba(0, 0, 0, 0.3));\n",
              "      fill: #FFFFFF;\n",
              "    }\n",
              "  </style>\n",
              "\n",
              "      <script>\n",
              "        const buttonEl =\n",
              "          document.querySelector('#df-1112c4b4-9e2b-448b-b543-5efd08d5e7dd button.colab-df-convert');\n",
              "        buttonEl.style.display =\n",
              "          google.colab.kernel.accessAllowed ? 'block' : 'none';\n",
              "\n",
              "        async function convertToInteractive(key) {\n",
              "          const element = document.querySelector('#df-1112c4b4-9e2b-448b-b543-5efd08d5e7dd');\n",
              "          const dataTable =\n",
              "            await google.colab.kernel.invokeFunction('convertToInteractive',\n",
              "                                                     [key], {});\n",
              "          if (!dataTable) return;\n",
              "\n",
              "          const docLinkHtml = 'Like what you see? Visit the ' +\n",
              "            '<a target=\"_blank\" href=https://colab.research.google.com/notebooks/data_table.ipynb>data table notebook</a>'\n",
              "            + ' to learn more about interactive tables.';\n",
              "          element.innerHTML = '';\n",
              "          dataTable['output_type'] = 'display_data';\n",
              "          await google.colab.output.renderOutput(dataTable, element);\n",
              "          const docLink = document.createElement('div');\n",
              "          docLink.innerHTML = docLinkHtml;\n",
              "          element.appendChild(docLink);\n",
              "        }\n",
              "      </script>\n",
              "    </div>\n",
              "  </div>\n",
              "  "
            ]
          },
          "metadata": {},
          "execution_count": 24
        }
      ]
    },
    {
      "cell_type": "code",
      "source": [
        "#Lets see the number of stores available in each city.\n",
        "stores_city=stores[['city','store_nbr']].groupby('city').count()\n",
        "stores_city=stores_city.reset_index()\n",
        "fig=plt.figure(figsize=(20,7))\n",
        "plt.bar(stores_city['city'],stores_city['store_nbr'])\n",
        "plt.xlabel('City')\n",
        "plt.ylabel('Number of stores available')\n",
        "plt.show()"
      ],
      "metadata": {
        "colab": {
          "base_uri": "https://localhost:8080/",
          "height": 442
        },
        "id": "oeT0UdFmDErE",
        "outputId": "f87e66c6-1579-4294-810a-12278d0411a9"
      },
      "execution_count": null,
      "outputs": [
        {
          "output_type": "display_data",
          "data": {
            "text/plain": [
              "<Figure size 1440x504 with 1 Axes>"
            ],
            "image/png": "[encoded data removed]"
          },
          "metadata": {
            "needs_background": "light"
          }
        }
      ]
    },
    {
      "cell_type": "code",
      "source": [
        "#Lets see the number of stores available in each clusters.\n",
        "stores_city=stores[['cluster','store_nbr']].groupby('cluster').count()\n",
        "stores_city=stores_city.reset_index()\n",
        "fig=plt.figure(figsize=(16,7))\n",
        "plt.bar(stores_city['cluster'],stores_city['store_nbr'])\n",
        "plt.xlabel('Clusters')\n",
        "plt.ylabel('Number of stores available')\n",
        "plt.show()"
      ],
      "metadata": {
        "colab": {
          "base_uri": "https://localhost:8080/",
          "height": 442
        },
        "id": "Cp943-5tDlO7",
        "outputId": "2ff09794-3458-47ff-ca2d-b9df85ba3255"
      },
      "execution_count": null,
      "outputs": [
        {
          "output_type": "display_data",
          "data": {
            "text/plain": [
              "<Figure size 1152x504 with 1 Axes>"
            ],
            "image/png": "[encoded data removed]"
          },
          "metadata": {
            "needs_background": "light"
          }
        }
      ]
    },
    {
      "cell_type": "code",
      "source": [
        "#Lets see the number of stores available in each type of store.\n",
        "stores_city=stores[['type','store_nbr']].groupby('type').count()\n",
        "stores_city=stores_city.reset_index()\n",
        "fig=plt.figure(figsize=(8,4))\n",
        "plt.bar(stores_city['type'],stores_city['store_nbr'])\n",
        "plt.xlabel('Store Type')\n",
        "plt.ylabel('Number of stores available')\n",
        "plt.show()"
      ],
      "metadata": {
        "colab": {
          "base_uri": "https://localhost:8080/",
          "height": 279
        },
        "id": "Tts2aPm5DuGr",
        "outputId": "41d45120-c41e-4e84-fa09-f175f8ce2f25"
      },
      "execution_count": null,
      "outputs": [
        {
          "output_type": "display_data",
          "data": {
            "text/plain": [
              "<Figure size 576x288 with 1 Axes>"
            ],
            "image/png": "[encoded data removed]"
          },
          "metadata": {
            "needs_background": "light"
          }
        }
      ]
    },
    {
      "cell_type": "markdown",
      "source": [
        "Train Dataset\n",
        "\n",
        "1.The training data, comprising time series of features store_nbr, family, and onpromotion as well as the target sales.\n",
        "\n",
        "2.store_nbr identifies the store at which the products are sold.\n",
        "\n",
        "3.family identifies the type of product sold.\n",
        "\n",
        "4.sales gives the total sales for a product family at a particular store at a given date. Fractional values are possible since products can be sold in fractional units (1.5 kg of cheese, for instance, as opposed to 1 bag of chips).\n",
        "\n",
        "5.onpromotion gives the total number of items in a product family that were being promoted at a store at a given date."
      ],
      "metadata": {
        "id": "q9gIdKmDD59-"
      }
    },
    {
      "cell_type": "code",
      "source": [
        "#importing the datsets\n",
        "train=pd.read_csv('/content/drive/MyDrive/time series forecat project/train.csv')\n",
        "train.head()"
      ],
      "metadata": {
        "colab": {
          "base_uri": "https://localhost:8080/",
          "height": 206
        },
        "id": "xdZVQrQwD1Pr",
        "outputId": "a9318c11-a48a-4863-cc9d-f5c587d4d1d8"
      },
      "execution_count": null,
      "outputs": [
        {
          "output_type": "execute_result",
          "data": {
            "text/plain": [
              "   id        date  store_nbr      family  sales  onpromotion\n",
              "0   0  2013-01-01          1  AUTOMOTIVE    0.0            0\n",
              "1   1  2013-01-01          1   BABY CARE    0.0            0\n",
              "2   2  2013-01-01          1      BEAUTY    0.0            0\n",
              "3   3  2013-01-01          1   BEVERAGES    0.0            0\n",
              "4   4  2013-01-01          1       BOOKS    0.0            0"
            ],
            "text/html": [
              "\n",
              "  <div id=\"df-7197ab2f-718b-403a-8555-289d38f28f03\">\n",
              "    <div class=\"colab-df-container\">\n",
              "      <div>\n",
              "<style scoped>\n",
              "    .dataframe tbody tr th:only-of-type {\n",
              "        vertical-align: middle;\n",
              "    }\n",
              "\n",
              "    .dataframe tbody tr th {\n",
              "        vertical-align: top;\n",
              "    }\n",
              "\n",
              "    .dataframe thead th {\n",
              "        text-align: right;\n",
              "    }\n",
              "</style>\n",
              "<table border=\"1\" class=\"dataframe\">\n",
              "  <thead>\n",
              "    <tr style=\"text-align: right;\">\n",
              "      <th></th>\n",
              "      <th>id</th>\n",
              "      <th>date</th>\n",
              "      <th>store_nbr</th>\n",
              "      <th>family</th>\n",
              "      <th>sales</th>\n",
              "      <th>onpromotion</th>\n",
              "    </tr>\n",
              "  </thead>\n",
              "  <tbody>\n",
              "    <tr>\n",
              "      <th>0</th>\n",
              "      <td>0</td>\n",
              "      <td>2013-01-01</td>\n",
              "      <td>1</td>\n",
              "      <td>AUTOMOTIVE</td>\n",
              "      <td>0.0</td>\n",
              "      <td>0</td>\n",
              "    </tr>\n",
              "    <tr>\n",
              "      <th>1</th>\n",
              "      <td>1</td>\n",
              "      <td>2013-01-01</td>\n",
              "      <td>1</td>\n",
              "      <td>BABY CARE</td>\n",
              "      <td>0.0</td>\n",
              "      <td>0</td>\n",
              "    </tr>\n",
              "    <tr>\n",
              "      <th>2</th>\n",
              "      <td>2</td>\n",
              "      <td>2013-01-01</td>\n",
              "      <td>1</td>\n",
              "      <td>BEAUTY</td>\n",
              "      <td>0.0</td>\n",
              "      <td>0</td>\n",
              "    </tr>\n",
              "    <tr>\n",
              "      <th>3</th>\n",
              "      <td>3</td>\n",
              "      <td>2013-01-01</td>\n",
              "      <td>1</td>\n",
              "      <td>BEVERAGES</td>\n",
              "      <td>0.0</td>\n",
              "      <td>0</td>\n",
              "    </tr>\n",
              "    <tr>\n",
              "      <th>4</th>\n",
              "      <td>4</td>\n",
              "      <td>2013-01-01</td>\n",
              "      <td>1</td>\n",
              "      <td>BOOKS</td>\n",
              "      <td>0.0</td>\n",
              "      <td>0</td>\n",
              "    </tr>\n",
              "  </tbody>\n",
              "</table>\n",
              "</div>\n",
              "      <button class=\"colab-df-convert\" onclick=\"convertToInteractive('df-7197ab2f-718b-403a-8555-289d38f28f03')\"\n",
              "              title=\"Convert this dataframe to an interactive table.\"\n",
              "              style=\"display:none;\">\n",
              "        \n",
              "  <svg xmlns=\"http://www.w3.org/2000/svg\" height=\"24px\"viewBox=\"0 0 24 24\"\n",
              "       width=\"24px\">\n",
              "    <path d=\"M0 0h24v24H0V0z\" fill=\"none\"/>\n",
              "    <path d=\"M18.56 5.44l.94 2.06.94-2.06 2.06-.94-2.06-.94-.94-2.06-.94 2.06-2.06.94zm-11 1L8.5 8.5l.94-2.06 2.06-.94-2.06-.94L8.5 2.5l-.94 2.06-2.06.94zm10 10l.94 2.06.94-2.06 2.06-.94-2.06-.94-.94-2.06-.94 2.06-2.06.94z\"/><path d=\"M17.41 7.96l-1.37-1.37c-.4-.4-.92-.59-1.43-.59-.52 0-1.04.2-1.43.59L10.3 9.45l-7.72 7.72c-.78.78-.78 2.05 0 2.83L4 21.41c.39.39.9.59 1.41.59.51 0 1.02-.2 1.41-.59l7.78-7.78 2.81-2.81c.8-.78.8-2.07 0-2.86zM5.41 20L4 18.59l7.72-7.72 1.47 1.35L5.41 20z\"/>\n",
              "  </svg>\n",
              "      </button>\n",
              "      \n",
              "  <style>\n",
              "    .colab-df-container {\n",
              "      display:flex;\n",
              "      flex-wrap:wrap;\n",
              "      gap: 12px;\n",
              "    }\n",
              "\n",
              "    .colab-df-convert {\n",
              "      background-color: #E8F0FE;\n",
              "      border: none;\n",
              "      border-radius: 50%;\n",
              "      cursor: pointer;\n",
              "      display: none;\n",
              "      fill: #1967D2;\n",
              "      height: 32px;\n",
              "      padding: 0 0 0 0;\n",
              "      width: 32px;\n",
              "    }\n",
              "\n",
              "    .colab-df-convert:hover {\n",
              "      background-color: #E2EBFA;\n",
              "      box-shadow: 0px 1px 2px rgba(60, 64, 67, 0.3), 0px 1px 3px 1px rgba(60, 64, 67, 0.15);\n",
              "      fill: #174EA6;\n",
              "    }\n",
              "\n",
              "    [theme=dark] .colab-df-convert {\n",
              "      background-color: #3B4455;\n",
              "      fill: #D2E3FC;\n",
              "    }\n",
              "\n",
              "    [theme=dark] .colab-df-convert:hover {\n",
              "      background-color: #434B5C;\n",
              "      box-shadow: 0px 1px 3px 1px rgba(0, 0, 0, 0.15);\n",
              "      filter: drop-shadow(0px 1px 2px rgba(0, 0, 0, 0.3));\n",
              "      fill: #FFFFFF;\n",
              "    }\n",
              "  </style>\n",
              "\n",
              "      <script>\n",
              "        const buttonEl =\n",
              "          document.querySelector('#df-7197ab2f-718b-403a-8555-289d38f28f03 button.colab-df-convert');\n",
              "        buttonEl.style.display =\n",
              "          google.colab.kernel.accessAllowed ? 'block' : 'none';\n",
              "\n",
              "        async function convertToInteractive(key) {\n",
              "          const element = document.querySelector('#df-7197ab2f-718b-403a-8555-289d38f28f03');\n",
              "          const dataTable =\n",
              "            await google.colab.kernel.invokeFunction('convertToInteractive',\n",
              "                                                     [key], {});\n",
              "          if (!dataTable) return;\n",
              "\n",
              "          const docLinkHtml = 'Like what you see? Visit the ' +\n",
              "            '<a target=\"_blank\" href=https://colab.research.google.com/notebooks/data_table.ipynb>data table notebook</a>'\n",
              "            + ' to learn more about interactive tables.';\n",
              "          element.innerHTML = '';\n",
              "          dataTable['output_type'] = 'display_data';\n",
              "          await google.colab.output.renderOutput(dataTable, element);\n",
              "          const docLink = document.createElement('div');\n",
              "          docLink.innerHTML = docLinkHtml;\n",
              "          element.appendChild(docLink);\n",
              "        }\n",
              "      </script>\n",
              "    </div>\n",
              "  </div>\n",
              "  "
            ]
          },
          "metadata": {},
          "execution_count": 28
        }
      ]
    },
    {
      "cell_type": "code",
      "source": [
        "train.info()"
      ],
      "metadata": {
        "colab": {
          "base_uri": "https://localhost:8080/"
        },
        "id": "er7RdzRNENfV",
        "outputId": "bea61898-a609-4245-c569-bf305e58f234"
      },
      "execution_count": null,
      "outputs": [
        {
          "output_type": "stream",
          "name": "stdout",
          "text": [
            "<class 'pandas.core.frame.DataFrame'>\n",
            "RangeIndex: 3000888 entries, 0 to 3000887\n",
            "Data columns (total 6 columns):\n",
            " #   Column       Dtype  \n",
            "---  ------       -----  \n",
            " 0   id           int64  \n",
            " 1   date         object \n",
            " 2   store_nbr    int64  \n",
            " 3   family       object \n",
            " 4   sales        float64\n",
            " 5   onpromotion  int64  \n",
            "dtypes: float64(1), int64(3), object(2)\n",
            "memory usage: 137.4+ MB\n"
          ]
        }
      ]
    },
    {
      "cell_type": "markdown",
      "source": [
        "From above we can see that date column data type is object. Lets make it to datetime format for further analysis."
      ],
      "metadata": {
        "id": "SlkphJSPEWC-"
      }
    },
    {
      "cell_type": "code",
      "source": [
        "train['date'] = pd.to_datetime(train['date'])"
      ],
      "metadata": {
        "id": "HQEHDimkEW0M"
      },
      "execution_count": null,
      "outputs": []
    },
    {
      "cell_type": "code",
      "source": [
        "#Lets analyse the total onpromotion i.e product family that were being promoted at a store\n",
        "store_family=train[['family','onpromotion']].groupby('family').sum()\n",
        "store_family=store_family.reset_index()\n",
        "fig=plt.figure(figsize=(20,5))\n",
        "plt.bar(store_family['family'],store_family['onpromotion'])\n",
        "plt.xlabel('Stores Type')\n",
        "plt.ylabel('Total sales on promotion')\n",
        "plt.show()"
      ],
      "metadata": {
        "colab": {
          "base_uri": "https://localhost:8080/",
          "height": 345
        },
        "id": "3Z7FfxXpEdLD",
        "outputId": "27ad1e7e-d2f0-4775-cceb-2516fa79d4fe"
      },
      "execution_count": null,
      "outputs": [
        {
          "output_type": "display_data",
          "data": {
            "text/plain": [
              "<Figure size 1440x360 with 1 Axes>"
            ],
            "image/png": "[encoded data removed]"
          },
          "metadata": {
            "needs_background": "light"
          }
        }
      ]
    },
    {
      "cell_type": "code",
      "source": [
        "#Lets analyse the sales that gives the total sales for a product family from all the stores\n",
        "store_family=train[['family','sales']].groupby('family').sum()\n",
        "store_family=store_family.reset_index()\n",
        "fig=plt.figure(figsize=(20,5))\n",
        "plt.bar(store_family['family'],store_family['sales'])\n",
        "plt.xlabel('Stores Type')\n",
        "plt.ylabel('Total Sales')\n",
        "plt.show()\n"
      ],
      "metadata": {
        "colab": {
          "base_uri": "https://localhost:8080/",
          "height": 345
        },
        "id": "KAq59zXmE1Ha",
        "outputId": "6e964dd1-9f1a-4d6b-b38c-2eb9cc3d3085"
      },
      "execution_count": null,
      "outputs": [
        {
          "output_type": "display_data",
          "data": {
            "text/plain": [
              "<Figure size 1440x360 with 1 Axes>"
            ],
            "image/png": "[encoded data removed]"
          },
          "metadata": {
            "needs_background": "light"
          }
        }
      ]
    },
    {
      "cell_type": "code",
      "source": [
        "le = LabelEncoder()\n",
        "train['family']=le.fit_transform(train['family'])\n",
        "train.head()"
      ],
      "metadata": {
        "colab": {
          "base_uri": "https://localhost:8080/",
          "height": 206
        },
        "id": "XlOnII4HE-7D",
        "outputId": "1c2e5b44-725c-4d21-b134-e8aafc423ce9"
      },
      "execution_count": null,
      "outputs": [
        {
          "output_type": "execute_result",
          "data": {
            "text/plain": [
              "   id       date  store_nbr  family  sales  onpromotion\n",
              "0   0 2013-01-01          1       0    0.0            0\n",
              "1   1 2013-01-01          1       1    0.0            0\n",
              "2   2 2013-01-01          1       2    0.0            0\n",
              "3   3 2013-01-01          1       3    0.0            0\n",
              "4   4 2013-01-01          1       4    0.0            0"
            ],
            "text/html": [
              "\n",
              "  <div id=\"df-6cbc2be5-9230-4803-8de0-9fdd25138b92\">\n",
              "    <div class=\"colab-df-container\">\n",
              "      <div>\n",
              "<style scoped>\n",
              "    .dataframe tbody tr th:only-of-type {\n",
              "        vertical-align: middle;\n",
              "    }\n",
              "\n",
              "    .dataframe tbody tr th {\n",
              "        vertical-align: top;\n",
              "    }\n",
              "\n",
              "    .dataframe thead th {\n",
              "        text-align: right;\n",
              "    }\n",
              "</style>\n",
              "<table border=\"1\" class=\"dataframe\">\n",
              "  <thead>\n",
              "    <tr style=\"text-align: right;\">\n",
              "      <th></th>\n",
              "      <th>id</th>\n",
              "      <th>date</th>\n",
              "      <th>store_nbr</th>\n",
              "      <th>family</th>\n",
              "      <th>sales</th>\n",
              "      <th>onpromotion</th>\n",
              "    </tr>\n",
              "  </thead>\n",
              "  <tbody>\n",
              "    <tr>\n",
              "      <th>0</th>\n",
              "      <td>0</td>\n",
              "      <td>2013-01-01</td>\n",
              "      <td>1</td>\n",
              "      <td>0</td>\n",
              "      <td>0.0</td>\n",
              "      <td>0</td>\n",
              "    </tr>\n",
              "    <tr>\n",
              "      <th>1</th>\n",
              "      <td>1</td>\n",
              "      <td>2013-01-01</td>\n",
              "      <td>1</td>\n",
              "      <td>1</td>\n",
              "      <td>0.0</td>\n",
              "      <td>0</td>\n",
              "    </tr>\n",
              "    <tr>\n",
              "      <th>2</th>\n",
              "      <td>2</td>\n",
              "      <td>2013-01-01</td>\n",
              "      <td>1</td>\n",
              "      <td>2</td>\n",
              "      <td>0.0</td>\n",
              "      <td>0</td>\n",
              "    </tr>\n",
              "    <tr>\n",
              "      <th>3</th>\n",
              "      <td>3</td>\n",
              "      <td>2013-01-01</td>\n",
              "      <td>1</td>\n",
              "      <td>3</td>\n",
              "      <td>0.0</td>\n",
              "      <td>0</td>\n",
              "    </tr>\n",
              "    <tr>\n",
              "      <th>4</th>\n",
              "      <td>4</td>\n",
              "      <td>2013-01-01</td>\n",
              "      <td>1</td>\n",
              "      <td>4</td>\n",
              "      <td>0.0</td>\n",
              "      <td>0</td>\n",
              "    </tr>\n",
              "  </tbody>\n",
              "</table>\n",
              "</div>\n",
              "      <button class=\"colab-df-convert\" onclick=\"convertToInteractive('df-6cbc2be5-9230-4803-8de0-9fdd25138b92')\"\n",
              "              title=\"Convert this dataframe to an interactive table.\"\n",
              "              style=\"display:none;\">\n",
              "        \n",
              "  <svg xmlns=\"http://www.w3.org/2000/svg\" height=\"24px\"viewBox=\"0 0 24 24\"\n",
              "       width=\"24px\">\n",
              "    <path d=\"M0 0h24v24H0V0z\" fill=\"none\"/>\n",
              "    <path d=\"M18.56 5.44l.94 2.06.94-2.06 2.06-.94-2.06-.94-.94-2.06-.94 2.06-2.06.94zm-11 1L8.5 8.5l.94-2.06 2.06-.94-2.06-.94L8.5 2.5l-.94 2.06-2.06.94zm10 10l.94 2.06.94-2.06 2.06-.94-2.06-.94-.94-2.06-.94 2.06-2.06.94z\"/><path d=\"M17.41 7.96l-1.37-1.37c-.4-.4-.92-.59-1.43-.59-.52 0-1.04.2-1.43.59L10.3 9.45l-7.72 7.72c-.78.78-.78 2.05 0 2.83L4 21.41c.39.39.9.59 1.41.59.51 0 1.02-.2 1.41-.59l7.78-7.78 2.81-2.81c.8-.78.8-2.07 0-2.86zM5.41 20L4 18.59l7.72-7.72 1.47 1.35L5.41 20z\"/>\n",
              "  </svg>\n",
              "      </button>\n",
              "      \n",
              "  <style>\n",
              "    .colab-df-container {\n",
              "      display:flex;\n",
              "      flex-wrap:wrap;\n",
              "      gap: 12px;\n",
              "    }\n",
              "\n",
              "    .colab-df-convert {\n",
              "      background-color: #E8F0FE;\n",
              "      border: none;\n",
              "      border-radius: 50%;\n",
              "      cursor: pointer;\n",
              "      display: none;\n",
              "      fill: #1967D2;\n",
              "      height: 32px;\n",
              "      padding: 0 0 0 0;\n",
              "      width: 32px;\n",
              "    }\n",
              "\n",
              "    .colab-df-convert:hover {\n",
              "      background-color: #E2EBFA;\n",
              "      box-shadow: 0px 1px 2px rgba(60, 64, 67, 0.3), 0px 1px 3px 1px rgba(60, 64, 67, 0.15);\n",
              "      fill: #174EA6;\n",
              "    }\n",
              "\n",
              "    [theme=dark] .colab-df-convert {\n",
              "      background-color: #3B4455;\n",
              "      fill: #D2E3FC;\n",
              "    }\n",
              "\n",
              "    [theme=dark] .colab-df-convert:hover {\n",
              "      background-color: #434B5C;\n",
              "      box-shadow: 0px 1px 3px 1px rgba(0, 0, 0, 0.15);\n",
              "      filter: drop-shadow(0px 1px 2px rgba(0, 0, 0, 0.3));\n",
              "      fill: #FFFFFF;\n",
              "    }\n",
              "  </style>\n",
              "\n",
              "      <script>\n",
              "        const buttonEl =\n",
              "          document.querySelector('#df-6cbc2be5-9230-4803-8de0-9fdd25138b92 button.colab-df-convert');\n",
              "        buttonEl.style.display =\n",
              "          google.colab.kernel.accessAllowed ? 'block' : 'none';\n",
              "\n",
              "        async function convertToInteractive(key) {\n",
              "          const element = document.querySelector('#df-6cbc2be5-9230-4803-8de0-9fdd25138b92');\n",
              "          const dataTable =\n",
              "            await google.colab.kernel.invokeFunction('convertToInteractive',\n",
              "                                                     [key], {});\n",
              "          if (!dataTable) return;\n",
              "\n",
              "          const docLinkHtml = 'Like what you see? Visit the ' +\n",
              "            '<a target=\"_blank\" href=https://colab.research.google.com/notebooks/data_table.ipynb>data table notebook</a>'\n",
              "            + ' to learn more about interactive tables.';\n",
              "          element.innerHTML = '';\n",
              "          dataTable['output_type'] = 'display_data';\n",
              "          await google.colab.output.renderOutput(dataTable, element);\n",
              "          const docLink = document.createElement('div');\n",
              "          docLink.innerHTML = docLinkHtml;\n",
              "          element.appendChild(docLink);\n",
              "        }\n",
              "      </script>\n",
              "    </div>\n",
              "  </div>\n",
              "  "
            ]
          },
          "metadata": {},
          "execution_count": 33
        }
      ]
    },
    {
      "cell_type": "markdown",
      "source": [
        "**Test Dataset**\n",
        "\n",
        "1.The test data, having the same features as the training data. We have to predict the target sales for the dates in this file.\n",
        "\n",
        "2.The dates in the test data are for the 15 days after the last date in the training data."
      ],
      "metadata": {
        "id": "8N3twEiNFDzN"
      }
    },
    {
      "cell_type": "markdown",
      "source": [
        "**Import the data set and see a overall details**"
      ],
      "metadata": {
        "id": "O8xQ-ES4FNEt"
      }
    },
    {
      "cell_type": "code",
      "source": [
        "test=pd.read_csv('/content/drive/MyDrive/time series forecat project/test.csv')\n",
        "test.head()"
      ],
      "metadata": {
        "colab": {
          "base_uri": "https://localhost:8080/",
          "height": 206
        },
        "id": "igbgzAyvFI7R",
        "outputId": "cabaa08d-33a5-4528-e68e-38ab11caee8e"
      },
      "execution_count": null,
      "outputs": [
        {
          "output_type": "execute_result",
          "data": {
            "text/plain": [
              "        id        date  store_nbr      family  onpromotion\n",
              "0  3000888  2017-08-16          1  AUTOMOTIVE            0\n",
              "1  3000889  2017-08-16          1   BABY CARE            0\n",
              "2  3000890  2017-08-16          1      BEAUTY            2\n",
              "3  3000891  2017-08-16          1   BEVERAGES           20\n",
              "4  3000892  2017-08-16          1       BOOKS            0"
            ],
            "text/html": [
              "\n",
              "  <div id=\"df-fa9c9d97-d7c1-4da1-a43b-25320745ac1c\">\n",
              "    <div class=\"colab-df-container\">\n",
              "      <div>\n",
              "<style scoped>\n",
              "    .dataframe tbody tr th:only-of-type {\n",
              "        vertical-align: middle;\n",
              "    }\n",
              "\n",
              "    .dataframe tbody tr th {\n",
              "        vertical-align: top;\n",
              "    }\n",
              "\n",
              "    .dataframe thead th {\n",
              "        text-align: right;\n",
              "    }\n",
              "</style>\n",
              "<table border=\"1\" class=\"dataframe\">\n",
              "  <thead>\n",
              "    <tr style=\"text-align: right;\">\n",
              "      <th></th>\n",
              "      <th>id</th>\n",
              "      <th>date</th>\n",
              "      <th>store_nbr</th>\n",
              "      <th>family</th>\n",
              "      <th>onpromotion</th>\n",
              "    </tr>\n",
              "  </thead>\n",
              "  <tbody>\n",
              "    <tr>\n",
              "      <th>0</th>\n",
              "      <td>3000888</td>\n",
              "      <td>2017-08-16</td>\n",
              "      <td>1</td>\n",
              "      <td>AUTOMOTIVE</td>\n",
              "      <td>0</td>\n",
              "    </tr>\n",
              "    <tr>\n",
              "      <th>1</th>\n",
              "      <td>3000889</td>\n",
              "      <td>2017-08-16</td>\n",
              "      <td>1</td>\n",
              "      <td>BABY CARE</td>\n",
              "      <td>0</td>\n",
              "    </tr>\n",
              "    <tr>\n",
              "      <th>2</th>\n",
              "      <td>3000890</td>\n",
              "      <td>2017-08-16</td>\n",
              "      <td>1</td>\n",
              "      <td>BEAUTY</td>\n",
              "      <td>2</td>\n",
              "    </tr>\n",
              "    <tr>\n",
              "      <th>3</th>\n",
              "      <td>3000891</td>\n",
              "      <td>2017-08-16</td>\n",
              "      <td>1</td>\n",
              "      <td>BEVERAGES</td>\n",
              "      <td>20</td>\n",
              "    </tr>\n",
              "    <tr>\n",
              "      <th>4</th>\n",
              "      <td>3000892</td>\n",
              "      <td>2017-08-16</td>\n",
              "      <td>1</td>\n",
              "      <td>BOOKS</td>\n",
              "      <td>0</td>\n",
              "    </tr>\n",
              "  </tbody>\n",
              "</table>\n",
              "</div>\n",
              "      <button class=\"colab-df-convert\" onclick=\"convertToInteractive('df-fa9c9d97-d7c1-4da1-a43b-25320745ac1c')\"\n",
              "              title=\"Convert this dataframe to an interactive table.\"\n",
              "              style=\"display:none;\">\n",
              "        \n",
              "  <svg xmlns=\"http://www.w3.org/2000/svg\" height=\"24px\"viewBox=\"0 0 24 24\"\n",
              "       width=\"24px\">\n",
              "    <path d=\"M0 0h24v24H0V0z\" fill=\"none\"/>\n",
              "    <path d=\"M18.56 5.44l.94 2.06.94-2.06 2.06-.94-2.06-.94-.94-2.06-.94 2.06-2.06.94zm-11 1L8.5 8.5l.94-2.06 2.06-.94-2.06-.94L8.5 2.5l-.94 2.06-2.06.94zm10 10l.94 2.06.94-2.06 2.06-.94-2.06-.94-.94-2.06-.94 2.06-2.06.94z\"/><path d=\"M17.41 7.96l-1.37-1.37c-.4-.4-.92-.59-1.43-.59-.52 0-1.04.2-1.43.59L10.3 9.45l-7.72 7.72c-.78.78-.78 2.05 0 2.83L4 21.41c.39.39.9.59 1.41.59.51 0 1.02-.2 1.41-.59l7.78-7.78 2.81-2.81c.8-.78.8-2.07 0-2.86zM5.41 20L4 18.59l7.72-7.72 1.47 1.35L5.41 20z\"/>\n",
              "  </svg>\n",
              "      </button>\n",
              "      \n",
              "  <style>\n",
              "    .colab-df-container {\n",
              "      display:flex;\n",
              "      flex-wrap:wrap;\n",
              "      gap: 12px;\n",
              "    }\n",
              "\n",
              "    .colab-df-convert {\n",
              "      background-color: #E8F0FE;\n",
              "      border: none;\n",
              "      border-radius: 50%;\n",
              "      cursor: pointer;\n",
              "      display: none;\n",
              "      fill: #1967D2;\n",
              "      height: 32px;\n",
              "      padding: 0 0 0 0;\n",
              "      width: 32px;\n",
              "    }\n",
              "\n",
              "    .colab-df-convert:hover {\n",
              "      background-color: #E2EBFA;\n",
              "      box-shadow: 0px 1px 2px rgba(60, 64, 67, 0.3), 0px 1px 3px 1px rgba(60, 64, 67, 0.15);\n",
              "      fill: #174EA6;\n",
              "    }\n",
              "\n",
              "    [theme=dark] .colab-df-convert {\n",
              "      background-color: #3B4455;\n",
              "      fill: #D2E3FC;\n",
              "    }\n",
              "\n",
              "    [theme=dark] .colab-df-convert:hover {\n",
              "      background-color: #434B5C;\n",
              "      box-shadow: 0px 1px 3px 1px rgba(0, 0, 0, 0.15);\n",
              "      filter: drop-shadow(0px 1px 2px rgba(0, 0, 0, 0.3));\n",
              "      fill: #FFFFFF;\n",
              "    }\n",
              "  </style>\n",
              "\n",
              "      <script>\n",
              "        const buttonEl =\n",
              "          document.querySelector('#df-fa9c9d97-d7c1-4da1-a43b-25320745ac1c button.colab-df-convert');\n",
              "        buttonEl.style.display =\n",
              "          google.colab.kernel.accessAllowed ? 'block' : 'none';\n",
              "\n",
              "        async function convertToInteractive(key) {\n",
              "          const element = document.querySelector('#df-fa9c9d97-d7c1-4da1-a43b-25320745ac1c');\n",
              "          const dataTable =\n",
              "            await google.colab.kernel.invokeFunction('convertToInteractive',\n",
              "                                                     [key], {});\n",
              "          if (!dataTable) return;\n",
              "\n",
              "          const docLinkHtml = 'Like what you see? Visit the ' +\n",
              "            '<a target=\"_blank\" href=https://colab.research.google.com/notebooks/data_table.ipynb>data table notebook</a>'\n",
              "            + ' to learn more about interactive tables.';\n",
              "          element.innerHTML = '';\n",
              "          dataTable['output_type'] = 'display_data';\n",
              "          await google.colab.output.renderOutput(dataTable, element);\n",
              "          const docLink = document.createElement('div');\n",
              "          docLink.innerHTML = docLinkHtml;\n",
              "          element.appendChild(docLink);\n",
              "        }\n",
              "      </script>\n",
              "    </div>\n",
              "  </div>\n",
              "  "
            ]
          },
          "metadata": {},
          "execution_count": 34
        }
      ]
    },
    {
      "cell_type": "code",
      "source": [
        "test.info()"
      ],
      "metadata": {
        "colab": {
          "base_uri": "https://localhost:8080/"
        },
        "id": "8qNWUGMWFevS",
        "outputId": "1339c21f-d1b5-4edd-869b-d986b3724be4"
      },
      "execution_count": null,
      "outputs": [
        {
          "output_type": "stream",
          "name": "stdout",
          "text": [
            "<class 'pandas.core.frame.DataFrame'>\n",
            "RangeIndex: 28512 entries, 0 to 28511\n",
            "Data columns (total 5 columns):\n",
            " #   Column       Non-Null Count  Dtype \n",
            "---  ------       --------------  ----- \n",
            " 0   id           28512 non-null  int64 \n",
            " 1   date         28512 non-null  object\n",
            " 2   store_nbr    28512 non-null  int64 \n",
            " 3   family       28512 non-null  object\n",
            " 4   onpromotion  28512 non-null  int64 \n",
            "dtypes: int64(3), object(2)\n",
            "memory usage: 1.1+ MB\n"
          ]
        }
      ]
    },
    {
      "cell_type": "markdown",
      "source": [
        "**From above we can see that date column data type is object. Lets make it to datetime format for further analysis.**"
      ],
      "metadata": {
        "id": "7MvjBwgvFkXD"
      }
    },
    {
      "cell_type": "code",
      "source": [
        "test['date'] = pd.to_datetime(test['date'])\n",
        "test['family']=le.fit_transform(test['family'])\n",
        "test.head()"
      ],
      "metadata": {
        "colab": {
          "base_uri": "https://localhost:8080/",
          "height": 206
        },
        "id": "V-1MkWwSFmaL",
        "outputId": "7e38b31d-8661-48d7-92d6-34cf21c6fccc"
      },
      "execution_count": null,
      "outputs": [
        {
          "output_type": "execute_result",
          "data": {
            "text/plain": [
              "        id       date  store_nbr  family  onpromotion\n",
              "0  3000888 2017-08-16          1       0            0\n",
              "1  3000889 2017-08-16          1       1            0\n",
              "2  3000890 2017-08-16          1       2            2\n",
              "3  3000891 2017-08-16          1       3           20\n",
              "4  3000892 2017-08-16          1       4            0"
            ],
            "text/html": [
              "\n",
              "  <div id=\"df-a325a761-eb9b-491d-8bd2-6de529a8c1d4\">\n",
              "    <div class=\"colab-df-container\">\n",
              "      <div>\n",
              "<style scoped>\n",
              "    .dataframe tbody tr th:only-of-type {\n",
              "        vertical-align: middle;\n",
              "    }\n",
              "\n",
              "    .dataframe tbody tr th {\n",
              "        vertical-align: top;\n",
              "    }\n",
              "\n",
              "    .dataframe thead th {\n",
              "        text-align: right;\n",
              "    }\n",
              "</style>\n",
              "<table border=\"1\" class=\"dataframe\">\n",
              "  <thead>\n",
              "    <tr style=\"text-align: right;\">\n",
              "      <th></th>\n",
              "      <th>id</th>\n",
              "      <th>date</th>\n",
              "      <th>store_nbr</th>\n",
              "      <th>family</th>\n",
              "      <th>onpromotion</th>\n",
              "    </tr>\n",
              "  </thead>\n",
              "  <tbody>\n",
              "    <tr>\n",
              "      <th>0</th>\n",
              "      <td>3000888</td>\n",
              "      <td>2017-08-16</td>\n",
              "      <td>1</td>\n",
              "      <td>0</td>\n",
              "      <td>0</td>\n",
              "    </tr>\n",
              "    <tr>\n",
              "      <th>1</th>\n",
              "      <td>3000889</td>\n",
              "      <td>2017-08-16</td>\n",
              "      <td>1</td>\n",
              "      <td>1</td>\n",
              "      <td>0</td>\n",
              "    </tr>\n",
              "    <tr>\n",
              "      <th>2</th>\n",
              "      <td>3000890</td>\n",
              "      <td>2017-08-16</td>\n",
              "      <td>1</td>\n",
              "      <td>2</td>\n",
              "      <td>2</td>\n",
              "    </tr>\n",
              "    <tr>\n",
              "      <th>3</th>\n",
              "      <td>3000891</td>\n",
              "      <td>2017-08-16</td>\n",
              "      <td>1</td>\n",
              "      <td>3</td>\n",
              "      <td>20</td>\n",
              "    </tr>\n",
              "    <tr>\n",
              "      <th>4</th>\n",
              "      <td>3000892</td>\n",
              "      <td>2017-08-16</td>\n",
              "      <td>1</td>\n",
              "      <td>4</td>\n",
              "      <td>0</td>\n",
              "    </tr>\n",
              "  </tbody>\n",
              "</table>\n",
              "</div>\n",
              "      <button class=\"colab-df-convert\" onclick=\"convertToInteractive('df-a325a761-eb9b-491d-8bd2-6de529a8c1d4')\"\n",
              "              title=\"Convert this dataframe to an interactive table.\"\n",
              "              style=\"display:none;\">\n",
              "        \n",
              "  <svg xmlns=\"http://www.w3.org/2000/svg\" height=\"24px\"viewBox=\"0 0 24 24\"\n",
              "       width=\"24px\">\n",
              "    <path d=\"M0 0h24v24H0V0z\" fill=\"none\"/>\n",
              "    <path d=\"M18.56 5.44l.94 2.06.94-2.06 2.06-.94-2.06-.94-.94-2.06-.94 2.06-2.06.94zm-11 1L8.5 8.5l.94-2.06 2.06-.94-2.06-.94L8.5 2.5l-.94 2.06-2.06.94zm10 10l.94 2.06.94-2.06 2.06-.94-2.06-.94-.94-2.06-.94 2.06-2.06.94z\"/><path d=\"M17.41 7.96l-1.37-1.37c-.4-.4-.92-.59-1.43-.59-.52 0-1.04.2-1.43.59L10.3 9.45l-7.72 7.72c-.78.78-.78 2.05 0 2.83L4 21.41c.39.39.9.59 1.41.59.51 0 1.02-.2 1.41-.59l7.78-7.78 2.81-2.81c.8-.78.8-2.07 0-2.86zM5.41 20L4 18.59l7.72-7.72 1.47 1.35L5.41 20z\"/>\n",
              "  </svg>\n",
              "      </button>\n",
              "      \n",
              "  <style>\n",
              "    .colab-df-container {\n",
              "      display:flex;\n",
              "      flex-wrap:wrap;\n",
              "      gap: 12px;\n",
              "    }\n",
              "\n",
              "    .colab-df-convert {\n",
              "      background-color: #E8F0FE;\n",
              "      border: none;\n",
              "      border-radius: 50%;\n",
              "      cursor: pointer;\n",
              "      display: none;\n",
              "      fill: #1967D2;\n",
              "      height: 32px;\n",
              "      padding: 0 0 0 0;\n",
              "      width: 32px;\n",
              "    }\n",
              "\n",
              "    .colab-df-convert:hover {\n",
              "      background-color: #E2EBFA;\n",
              "      box-shadow: 0px 1px 2px rgba(60, 64, 67, 0.3), 0px 1px 3px 1px rgba(60, 64, 67, 0.15);\n",
              "      fill: #174EA6;\n",
              "    }\n",
              "\n",
              "    [theme=dark] .colab-df-convert {\n",
              "      background-color: #3B4455;\n",
              "      fill: #D2E3FC;\n",
              "    }\n",
              "\n",
              "    [theme=dark] .colab-df-convert:hover {\n",
              "      background-color: #434B5C;\n",
              "      box-shadow: 0px 1px 3px 1px rgba(0, 0, 0, 0.15);\n",
              "      filter: drop-shadow(0px 1px 2px rgba(0, 0, 0, 0.3));\n",
              "      fill: #FFFFFF;\n",
              "    }\n",
              "  </style>\n",
              "\n",
              "      <script>\n",
              "        const buttonEl =\n",
              "          document.querySelector('#df-a325a761-eb9b-491d-8bd2-6de529a8c1d4 button.colab-df-convert');\n",
              "        buttonEl.style.display =\n",
              "          google.colab.kernel.accessAllowed ? 'block' : 'none';\n",
              "\n",
              "        async function convertToInteractive(key) {\n",
              "          const element = document.querySelector('#df-a325a761-eb9b-491d-8bd2-6de529a8c1d4');\n",
              "          const dataTable =\n",
              "            await google.colab.kernel.invokeFunction('convertToInteractive',\n",
              "                                                     [key], {});\n",
              "          if (!dataTable) return;\n",
              "\n",
              "          const docLinkHtml = 'Like what you see? Visit the ' +\n",
              "            '<a target=\"_blank\" href=https://colab.research.google.com/notebooks/data_table.ipynb>data table notebook</a>'\n",
              "            + ' to learn more about interactive tables.';\n",
              "          element.innerHTML = '';\n",
              "          dataTable['output_type'] = 'display_data';\n",
              "          await google.colab.output.renderOutput(dataTable, element);\n",
              "          const docLink = document.createElement('div');\n",
              "          docLink.innerHTML = docLinkHtml;\n",
              "          element.appendChild(docLink);\n",
              "        }\n",
              "      </script>\n",
              "    </div>\n",
              "  </div>\n",
              "  "
            ]
          },
          "metadata": {},
          "execution_count": 36
        }
      ]
    },
    {
      "cell_type": "code",
      "source": [
        "#Lets create a function that will test the stationarity of dataset and we can use this frequently.\n",
        "def adf_test(series):\n",
        "    result=adfuller(series)\n",
        "    print('p value after test is ',result[1])\n",
        "    if result[1] > 0.05:\n",
        "        print('Null Hypothesis rejected and data set is not a stationary')\n",
        "    else:\n",
        "        print('Null Hypothesis can not be rejected and data set is a stationary')"
      ],
      "metadata": {
        "id": "p_vA8aUuFhsT"
      },
      "execution_count": null,
      "outputs": []
    },
    {
      "cell_type": "code",
      "source": [
        "sales_train=train[['date','sales']].groupby('date').sum()\n",
        "adf_test(sales_train['sales'])"
      ],
      "metadata": {
        "colab": {
          "base_uri": "https://localhost:8080/"
        },
        "id": "UGJYDFogFhhs",
        "outputId": "aab8d59f-7438-4b3e-fbc5-99814c18a025"
      },
      "execution_count": null,
      "outputs": [
        {
          "output_type": "stream",
          "name": "stdout",
          "text": [
            "p value after test is  0.08969592175787444\n",
            "Null Hypothesis rejected and data set is not a stationary\n"
          ]
        }
      ]
    },
    {
      "cell_type": "code",
      "source": [
        "#From above we can crealy see that our data set is not a stationary data set\n",
        "sales_train['1shifted sales'] = sales_train['sales'] - sales_train ['sales'].shift(1)\n",
        "print(sales_train.head())\n",
        "sales_train = sales_train.dropna()\n",
        "adf_test(sales_train['1shifted sales'])"
      ],
      "metadata": {
        "colab": {
          "base_uri": "https://localhost:8080/"
        },
        "id": "fp75Q4xKGDA7",
        "outputId": "1e56d483-bcd4-4f78-ef06-d3b7fa87360a"
      },
      "execution_count": null,
      "outputs": [
        {
          "output_type": "stream",
          "name": "stdout",
          "text": [
            "                    sales  1shifted sales\n",
            "date                                     \n",
            "2013-01-01    2511.618999             NaN\n",
            "2013-01-02  496092.417944   493580.798945\n",
            "2013-01-03  361461.231124  -134631.186820\n",
            "2013-01-04  354459.677093    -7001.554031\n",
            "2013-01-05  477350.121229   122890.444136\n",
            "p value after test is  4.573768417346642e-21\n",
            "Null Hypothesis can not be rejected and data set is a stationary\n"
          ]
        }
      ]
    },
    {
      "cell_type": "code",
      "source": [
        "plot_pacf(sales_train['1shifted sales'])\n",
        "plot_acf(sales_train['1shifted sales'])"
      ],
      "metadata": {
        "colab": {
          "base_uri": "https://localhost:8080/",
          "height": 809
        },
        "id": "ir1vRYR0GTfd",
        "outputId": "05a1f6fe-ad2a-4d5c-af90-80478b05c615"
      },
      "execution_count": null,
      "outputs": [
        {
          "output_type": "execute_result",
          "data": {
            "text/plain": [
              "<Figure size 432x288 with 1 Axes>"
            ],
            "image/png": "[encoded data removed]"
          },
          "metadata": {},
          "execution_count": 40
        },
        {
          "output_type": "display_data",
          "data": {
            "text/plain": [
              "<Figure size 432x288 with 1 Axes>"
            ],
            "image/png": "[encoded data removed]"
          },
          "metadata": {
            "needs_background": "light"
          }
        },
        {
          "output_type": "display_data",
          "data": {
            "text/plain": [
              "<Figure size 432x288 with 1 Axes>"
            ],
            "image/png": "[encoded data removed]"
          },
          "metadata": {
            "needs_background": "light"
          }
        }
      ]
    },
    {
      "cell_type": "code",
      "source": [
        "sales_train.plot()"
      ],
      "metadata": {
        "colab": {
          "base_uri": "https://localhost:8080/",
          "height": 297
        },
        "id": "h1ebWwAQGiiI",
        "outputId": "a92b6102-7229-418d-bca5-7b77242401ca"
      },
      "execution_count": null,
      "outputs": [
        {
          "output_type": "execute_result",
          "data": {
            "text/plain": [
              "<matplotlib.axes._subplots.AxesSubplot at 0x7fcae9d457d0>"
            ]
          },
          "metadata": {},
          "execution_count": 41
        },
        {
          "output_type": "display_data",
          "data": {
            "text/plain": [
              "<Figure size 432x288 with 1 Axes>"
            ],
            "image/png": "[encoded data removed]"
          },
          "metadata": {
            "needs_background": "light"
          }
        }
      ]
    },
    {
      "cell_type": "markdown",
      "source": [
        "From above we can clearly see the seasonality in our dataset. At the end of each year we can clearly see the increase in sales and some decrease in sales at mid of year."
      ],
      "metadata": {
        "id": "RW0M5JJ4Gp4-"
      }
    },
    {
      "cell_type": "code",
      "source": [
        "#Let's start our ARIMA model with proper data.\n",
        "sales_train['1shifted sales'] = sales_train['1shifted sales'].astype('float64')"
      ],
      "metadata": {
        "id": "o9NI9B7NGqwt"
      },
      "execution_count": null,
      "outputs": []
    },
    {
      "cell_type": "code",
      "source": [
        "model_arima = ARIMA(sales_train['sales'],order = (0,1,0))\n",
        "model_arima_fit = model_arima.fit()\n",
        "model_arima_fit.summary() "
      ],
      "metadata": {
        "colab": {
          "base_uri": "https://localhost:8080/",
          "height": 387
        },
        "id": "8SnT1MTKG04W",
        "outputId": "7510aae7-f976-4b03-e7c5-b6ebc453f1d4"
      },
      "execution_count": null,
      "outputs": [
        {
          "output_type": "execute_result",
          "data": {
            "text/plain": [
              "<class 'statsmodels.iolib.summary.Summary'>\n",
              "\"\"\"\n",
              "                               SARIMAX Results                                \n",
              "==============================================================================\n",
              "Dep. Variable:                  sales   No. Observations:                 1683\n",
              "Model:                 ARIMA(0, 1, 0)   Log Likelihood              -22536.381\n",
              "Date:                Mon, 12 Sep 2022   AIC                          45074.763\n",
              "Time:                        14:29:59   BIC                          45080.191\n",
              "Sample:                             0   HQIC                         45076.773\n",
              "                               - 1683                                         \n",
              "Covariance Type:                  opg                                         \n",
              "==============================================================================\n",
              "                 coef    std err          z      P>|z|      [0.025      0.975]\n",
              "------------------------------------------------------------------------------\n",
              "sigma2      2.542e+10   4.11e+08     61.766      0.000    2.46e+10    2.62e+10\n",
              "===================================================================================\n",
              "Ljung-Box (L1) (Q):                   6.34   Jarque-Bera (JB):              3494.94\n",
              "Prob(Q):                              0.01   Prob(JB):                         0.00\n",
              "Heteroskedasticity (H):               2.95   Skew:                             0.01\n",
              "Prob(H) (two-sided):                  0.00   Kurtosis:                        10.06\n",
              "===================================================================================\n",
              "\n",
              "Warnings:\n",
              "[1] Covariance matrix calculated using the outer product of gradients (complex-step).\n",
              "\"\"\""
            ],
            "text/html": [
              "<table class=\"simpletable\">\n",
              "<caption>SARIMAX Results</caption>\n",
              "<tr>\n",
              "  <th>Dep. Variable:</th>         <td>sales</td>      <th>  No. Observations:  </th>    <td>1683</td>   \n",
              "</tr>\n",
              "<tr>\n",
              "  <th>Model:</th>            <td>ARIMA(0, 1, 0)</td>  <th>  Log Likelihood     </th> <td>-22536.381</td>\n",
              "</tr>\n",
              "<tr>\n",
              "  <th>Date:</th>            <td>Mon, 12 Sep 2022</td> <th>  AIC                </th>  <td>45074.763</td>\n",
              "</tr>\n",
              "<tr>\n",
              "  <th>Time:</th>                <td>14:29:59</td>     <th>  BIC                </th>  <td>45080.191</td>\n",
              "</tr>\n",
              "<tr>\n",
              "  <th>Sample:</th>                  <td>0</td>        <th>  HQIC               </th>  <td>45076.773</td>\n",
              "</tr>\n",
              "<tr>\n",
              "  <th></th>                      <td> - 1683</td>     <th>                     </th>      <td> </td>    \n",
              "</tr>\n",
              "<tr>\n",
              "  <th>Covariance Type:</th>        <td>opg</td>       <th>                     </th>      <td> </td>    \n",
              "</tr>\n",
              "</table>\n",
              "<table class=\"simpletable\">\n",
              "<tr>\n",
              "     <td></td>       <th>coef</th>     <th>std err</th>      <th>z</th>      <th>P>|z|</th>  <th>[0.025</th>    <th>0.975]</th>  \n",
              "</tr>\n",
              "<tr>\n",
              "  <th>sigma2</th> <td> 2.542e+10</td> <td> 4.11e+08</td> <td>   61.766</td> <td> 0.000</td> <td> 2.46e+10</td> <td> 2.62e+10</td>\n",
              "</tr>\n",
              "</table>\n",
              "<table class=\"simpletable\">\n",
              "<tr>\n",
              "  <th>Ljung-Box (L1) (Q):</th>     <td>6.34</td> <th>  Jarque-Bera (JB):  </th> <td>3494.94</td>\n",
              "</tr>\n",
              "<tr>\n",
              "  <th>Prob(Q):</th>                <td>0.01</td> <th>  Prob(JB):          </th>  <td>0.00</td>  \n",
              "</tr>\n",
              "<tr>\n",
              "  <th>Heteroskedasticity (H):</th> <td>2.95</td> <th>  Skew:              </th>  <td>0.01</td>  \n",
              "</tr>\n",
              "<tr>\n",
              "  <th>Prob(H) (two-sided):</th>    <td>0.00</td> <th>  Kurtosis:          </th>  <td>10.06</td> \n",
              "</tr>\n",
              "</table><br/><br/>Warnings:<br/>[1] Covariance matrix calculated using the outer product of gradients (complex-step)."
            ]
          },
          "metadata": {},
          "execution_count": 43
        }
      ]
    },
    {
      "cell_type": "code",
      "source": [
        "#Let's plot residuals for our ARIMA model\n",
        "residuals = pd.DataFrame(model_arima_fit.resid)\n",
        "residuals.plot()\n",
        "plt.show()\n",
        "residuals.plot(kind='kde')\n",
        "plt.show()\n",
        "print (residuals.describe())"
      ],
      "metadata": {
        "colab": {
          "base_uri": "https://localhost:8080/",
          "height": 708
        },
        "id": "Agu7ZNsMG7Ki",
        "outputId": "dfffdfe3-455b-4835-87c0-9b5af51eaaac"
      },
      "execution_count": null,
      "outputs": [
        {
          "output_type": "display_data",
          "data": {
            "text/plain": [
              "<Figure size 432x288 with 1 Axes>"
            ],
            "image/png": "[encoded data removed]"
          },
          "metadata": {
            "needs_background": "light"
          }
        },
        {
          "output_type": "display_data",
          "data": {
            "text/plain": [
              "<Figure size 432x288 with 1 Axes>"
            ],
            "image/png": "[encoded data removed]"
          },
          "metadata": {
            "needs_background": "light"
          }
        },
        {
          "output_type": "stream",
          "name": "stdout",
          "text": [
            "                  0\n",
            "count  1.683000e+03\n",
            "mean   4.531562e+02\n",
            "std    1.599294e+05\n",
            "min   -1.096930e+06\n",
            "25%   -7.967363e+04\n",
            "50%    9.784374e+03\n",
            "75%    9.559774e+04\n",
            "max    1.390224e+06\n"
          ]
        }
      ]
    },
    {
      "cell_type": "code",
      "source": [
        "#We have created our model and now its time to predict the data.\n",
        "pred_arima=model_arima_fit.predict(start=datetime(2017,6,1),end=datetime(2017,7,1))\n",
        "pred_arima"
      ],
      "metadata": {
        "colab": {
          "base_uri": "https://localhost:8080/"
        },
        "id": "cVG3lEHlHCV6",
        "outputId": "15501b92-4e68-4287-b2f2-078393eaa4bc"
      },
      "execution_count": null,
      "outputs": [
        {
          "output_type": "execute_result",
          "data": {
            "text/plain": [
              "date\n",
              "2017-06-01    8.580621e+05\n",
              "2017-06-02    7.668592e+05\n",
              "2017-06-03    9.184213e+05\n",
              "2017-06-04    1.176138e+06\n",
              "2017-06-05    1.376512e+06\n",
              "2017-06-06    9.126939e+05\n",
              "2017-06-07    8.055466e+05\n",
              "2017-06-08    8.429798e+05\n",
              "2017-06-09    6.670998e+05\n",
              "2017-06-10    7.951161e+05\n",
              "2017-06-11    9.937327e+05\n",
              "2017-06-12    1.213674e+06\n",
              "2017-06-13    7.683498e+05\n",
              "2017-06-14    7.294130e+05\n",
              "2017-06-15    7.858859e+05\n",
              "2017-06-16    6.603383e+05\n",
              "2017-06-17    8.347864e+05\n",
              "2017-06-18    1.096134e+06\n",
              "2017-06-19    9.651441e+05\n",
              "2017-06-20    7.911464e+05\n",
              "2017-06-21    7.873267e+05\n",
              "2017-06-22    7.661590e+05\n",
              "2017-06-23    6.098688e+05\n",
              "2017-06-24    7.610497e+05\n",
              "2017-06-25    9.632682e+05\n",
              "2017-06-26    1.092611e+06\n",
              "2017-06-27    7.553678e+05\n",
              "2017-06-28    6.822185e+05\n",
              "2017-06-29    7.318970e+05\n",
              "2017-06-30    6.308118e+05\n",
              "2017-07-01    8.022731e+05\n",
              "Name: predicted_mean, dtype: float64"
            ]
          },
          "metadata": {},
          "execution_count": 45
        }
      ]
    },
    {
      "cell_type": "code",
      "source": [
        "#SARIMAX Model\n",
        "model_SARIMA=SARIMAX(sales_train['sales'],order=(3,0,6),seasonal_order=(0,1,0,12))\n",
        "model_SARIMA_fit=model_SARIMA.fit()\n",
        "model_SARIMA_fit.summary()"
      ],
      "metadata": {
        "colab": {
          "base_uri": "https://localhost:8080/",
          "height": 597
        },
        "id": "cw_iRvm2Hknm",
        "outputId": "63068e15-5142-41d1-f71e-f39f621a4f6c"
      },
      "execution_count": null,
      "outputs": [
        {
          "output_type": "execute_result",
          "data": {
            "text/plain": [
              "<class 'statsmodels.iolib.summary.Summary'>\n",
              "\"\"\"\n",
              "                                      SARIMAX Results                                      \n",
              "===========================================================================================\n",
              "Dep. Variable:                               sales   No. Observations:                 1683\n",
              "Model:             SARIMAX(3, 0, 6)x(0, 1, [], 12)   Log Likelihood              -22433.675\n",
              "Date:                             Mon, 12 Sep 2022   AIC                          44887.350\n",
              "Time:                                     14:33:36   BIC                          44941.562\n",
              "Sample:                                          0   HQIC                         44907.437\n",
              "                                            - 1683                                         \n",
              "Covariance Type:                               opg                                         \n",
              "==============================================================================\n",
              "                 coef    std err          z      P>|z|      [0.025      0.975]\n",
              "------------------------------------------------------------------------------\n",
              "ar.L1          0.5293      0.019     27.611      0.000       0.492       0.567\n",
              "ar.L2         -0.5538      0.014    -38.926      0.000      -0.582      -0.526\n",
              "ar.L3          0.9063      0.019     48.449      0.000       0.870       0.943\n",
              "ma.L1          0.3218      0.021     15.478      0.000       0.281       0.363\n",
              "ma.L2          0.8083      0.018     45.459      0.000       0.773       0.843\n",
              "ma.L3         -0.3649      0.019    -19.402      0.000      -0.402      -0.328\n",
              "ma.L4         -0.6226      0.016    -38.761      0.000      -0.654      -0.591\n",
              "ma.L5         -0.6791      0.015    -45.140      0.000      -0.709      -0.650\n",
              "ma.L6         -0.4295      0.023    -19.006      0.000      -0.474      -0.385\n",
              "sigma2      3.587e+10   3.42e-13   1.05e+23      0.000    3.59e+10    3.59e+10\n",
              "===================================================================================\n",
              "Ljung-Box (L1) (Q):                  15.99   Jarque-Bera (JB):              5507.11\n",
              "Prob(Q):                              0.00   Prob(JB):                         0.00\n",
              "Heteroskedasticity (H):               2.99   Skew:                             0.05\n",
              "Prob(H) (two-sided):                  0.00   Kurtosis:                        11.89\n",
              "===================================================================================\n",
              "\n",
              "Warnings:\n",
              "[1] Covariance matrix calculated using the outer product of gradients (complex-step).\n",
              "[2] Covariance matrix is singular or near-singular, with condition number 8.82e+38. Standard errors may be unstable.\n",
              "\"\"\""
            ],
            "text/html": [
              "<table class=\"simpletable\">\n",
              "<caption>SARIMAX Results</caption>\n",
              "<tr>\n",
              "  <th>Dep. Variable:</th>                <td>sales</td>              <th>  No. Observations:  </th>    <td>1683</td>   \n",
              "</tr>\n",
              "<tr>\n",
              "  <th>Model:</th>           <td>SARIMAX(3, 0, 6)x(0, 1, [], 12)</td> <th>  Log Likelihood     </th> <td>-22433.675</td>\n",
              "</tr>\n",
              "<tr>\n",
              "  <th>Date:</th>                   <td>Mon, 12 Sep 2022</td>         <th>  AIC                </th>  <td>44887.350</td>\n",
              "</tr>\n",
              "<tr>\n",
              "  <th>Time:</th>                       <td>14:33:36</td>             <th>  BIC                </th>  <td>44941.562</td>\n",
              "</tr>\n",
              "<tr>\n",
              "  <th>Sample:</th>                         <td>0</td>                <th>  HQIC               </th>  <td>44907.437</td>\n",
              "</tr>\n",
              "<tr>\n",
              "  <th></th>                             <td> - 1683</td>             <th>                     </th>      <td> </td>    \n",
              "</tr>\n",
              "<tr>\n",
              "  <th>Covariance Type:</th>               <td>opg</td>               <th>                     </th>      <td> </td>    \n",
              "</tr>\n",
              "</table>\n",
              "<table class=\"simpletable\">\n",
              "<tr>\n",
              "     <td></td>       <th>coef</th>     <th>std err</th>      <th>z</th>      <th>P>|z|</th>  <th>[0.025</th>    <th>0.975]</th>  \n",
              "</tr>\n",
              "<tr>\n",
              "  <th>ar.L1</th>  <td>    0.5293</td> <td>    0.019</td> <td>   27.611</td> <td> 0.000</td> <td>    0.492</td> <td>    0.567</td>\n",
              "</tr>\n",
              "<tr>\n",
              "  <th>ar.L2</th>  <td>   -0.5538</td> <td>    0.014</td> <td>  -38.926</td> <td> 0.000</td> <td>   -0.582</td> <td>   -0.526</td>\n",
              "</tr>\n",
              "<tr>\n",
              "  <th>ar.L3</th>  <td>    0.9063</td> <td>    0.019</td> <td>   48.449</td> <td> 0.000</td> <td>    0.870</td> <td>    0.943</td>\n",
              "</tr>\n",
              "<tr>\n",
              "  <th>ma.L1</th>  <td>    0.3218</td> <td>    0.021</td> <td>   15.478</td> <td> 0.000</td> <td>    0.281</td> <td>    0.363</td>\n",
              "</tr>\n",
              "<tr>\n",
              "  <th>ma.L2</th>  <td>    0.8083</td> <td>    0.018</td> <td>   45.459</td> <td> 0.000</td> <td>    0.773</td> <td>    0.843</td>\n",
              "</tr>\n",
              "<tr>\n",
              "  <th>ma.L3</th>  <td>   -0.3649</td> <td>    0.019</td> <td>  -19.402</td> <td> 0.000</td> <td>   -0.402</td> <td>   -0.328</td>\n",
              "</tr>\n",
              "<tr>\n",
              "  <th>ma.L4</th>  <td>   -0.6226</td> <td>    0.016</td> <td>  -38.761</td> <td> 0.000</td> <td>   -0.654</td> <td>   -0.591</td>\n",
              "</tr>\n",
              "<tr>\n",
              "  <th>ma.L5</th>  <td>   -0.6791</td> <td>    0.015</td> <td>  -45.140</td> <td> 0.000</td> <td>   -0.709</td> <td>   -0.650</td>\n",
              "</tr>\n",
              "<tr>\n",
              "  <th>ma.L6</th>  <td>   -0.4295</td> <td>    0.023</td> <td>  -19.006</td> <td> 0.000</td> <td>   -0.474</td> <td>   -0.385</td>\n",
              "</tr>\n",
              "<tr>\n",
              "  <th>sigma2</th> <td> 3.587e+10</td> <td> 3.42e-13</td> <td> 1.05e+23</td> <td> 0.000</td> <td> 3.59e+10</td> <td> 3.59e+10</td>\n",
              "</tr>\n",
              "</table>\n",
              "<table class=\"simpletable\">\n",
              "<tr>\n",
              "  <th>Ljung-Box (L1) (Q):</th>     <td>15.99</td> <th>  Jarque-Bera (JB):  </th> <td>5507.11</td>\n",
              "</tr>\n",
              "<tr>\n",
              "  <th>Prob(Q):</th>                <td>0.00</td>  <th>  Prob(JB):          </th>  <td>0.00</td>  \n",
              "</tr>\n",
              "<tr>\n",
              "  <th>Heteroskedasticity (H):</th> <td>2.99</td>  <th>  Skew:              </th>  <td>0.05</td>  \n",
              "</tr>\n",
              "<tr>\n",
              "  <th>Prob(H) (two-sided):</th>    <td>0.00</td>  <th>  Kurtosis:          </th>  <td>11.89</td> \n",
              "</tr>\n",
              "</table><br/><br/>Warnings:<br/>[1] Covariance matrix calculated using the outer product of gradients (complex-step).<br/>[2] Covariance matrix is singular or near-singular, with condition number 8.82e+38. Standard errors may be unstable."
            ]
          },
          "metadata": {},
          "execution_count": 46
        }
      ]
    },
    {
      "cell_type": "code",
      "source": [
        "residuals = pd.DataFrame(model_SARIMA_fit.resid)\n",
        "residuals.plot()\n",
        "plt.show()\n",
        "residuals.plot(kind='kde')\n",
        "plt.show()\n",
        "print (residuals.describe())"
      ],
      "metadata": {
        "colab": {
          "base_uri": "https://localhost:8080/",
          "height": 708
        },
        "id": "wZyFpV3MIW_j",
        "outputId": "173ea9e4-c33f-4c4d-b4df-a43369e07967"
      },
      "execution_count": null,
      "outputs": [
        {
          "output_type": "display_data",
          "data": {
            "text/plain": [
              "<Figure size 432x288 with 1 Axes>"
            ],
            "image/png": "[encoded data removed]"
          },
          "metadata": {
            "needs_background": "light"
          }
        },
        {
          "output_type": "display_data",
          "data": {
            "text/plain": [
              "<Figure size 432x288 with 1 Axes>"
            ],
            "image/png": "[encoded data removed]"
          },
          "metadata": {
            "needs_background": "light"
          }
        },
        {
          "output_type": "stream",
          "name": "stdout",
          "text": [
            "                  0\n",
            "count  1.683000e+03\n",
            "mean   1.504245e+04\n",
            "std    1.590667e+05\n",
            "min   -1.102240e+06\n",
            "25%   -7.026293e+04\n",
            "50%   -1.720953e+03\n",
            "75%    9.967078e+04\n",
            "max    1.241364e+06\n"
          ]
        }
      ]
    },
    {
      "cell_type": "code",
      "source": [
        "pred_Sarima=model_SARIMA_fit.predict(start=datetime(2017,6,1),end=datetime(2017,7,1))\n",
        "residuals=sales_train['sales']-pred_Sarima\n",
        "model_SARIMA_fit.resid.plot()"
      ],
      "metadata": {
        "colab": {
          "base_uri": "https://localhost:8080/",
          "height": 297
        },
        "id": "cHb2jm_XIcHk",
        "outputId": "32e38195-8de7-4bf6-ac8b-d6f713b9a548"
      },
      "execution_count": null,
      "outputs": [
        {
          "output_type": "execute_result",
          "data": {
            "text/plain": [
              "<matplotlib.axes._subplots.AxesSubplot at 0x7fcae9e3f890>"
            ]
          },
          "metadata": {},
          "execution_count": 48
        },
        {
          "output_type": "display_data",
          "data": {
            "text/plain": [
              "<Figure size 432x288 with 1 Axes>"
            ],
            "image/png": "[encoded data removed]"
          },
          "metadata": {
            "needs_background": "light"
          }
        }
      ]
    },
    {
      "cell_type": "code",
      "source": [
        "#Let's predict the sales with the help of our SARIMAX model and plot residuals\n",
        "pred_Sarima=model_SARIMA_fit.predict(start=datetime(2017,8,10),end=datetime(2017,8,13))\n",
        "residuals=sales_train['sales']-pred_Sarima\n",
        "model_SARIMA_fit.resid.plot()"
      ],
      "metadata": {
        "colab": {
          "base_uri": "https://localhost:8080/",
          "height": 297
        },
        "id": "M513pqvCIh4V",
        "outputId": "fd56f126-6e6c-4871-8dbc-f020ca580070"
      },
      "execution_count": null,
      "outputs": [
        {
          "output_type": "execute_result",
          "data": {
            "text/plain": [
              "<matplotlib.axes._subplots.AxesSubplot at 0x7fcb23f32d90>"
            ]
          },
          "metadata": {},
          "execution_count": 49
        },
        {
          "output_type": "display_data",
          "data": {
            "text/plain": [
              "<Figure size 432x288 with 1 Axes>"
            ],
            "image/png": "[encoded data removed]"
          },
          "metadata": {
            "needs_background": "light"
          }
        }
      ]
    },
    {
      "cell_type": "markdown",
      "source": [],
      "metadata": {
        "id": "YhzQeIypIhjS"
      }
    }
  ]
}